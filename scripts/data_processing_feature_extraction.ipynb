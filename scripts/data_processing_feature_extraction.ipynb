{
 "cells": [
  {
   "cell_type": "markdown",
   "id": "4ea3170f",
   "metadata": {},
   "source": [
    "# EEG analysis of the Focus Protocol with Deep Learning\n",
    "In this notebook, I am going to analyze EEG signals collected during afternoon work sessions for days where I perfomed the Focus Protocol right before the session (Day_X_Focus_Protocol_afternoon_work_session_xyz.csv) and on days where no protocol was performed (Day_X_No_Protocol_afternoon_work_session_xyz.csv)\n",
    "\n",
    "My hypothesis is that we will see differences between these two types of sessions, specifically on the alpha band, since this is the frequency band most robust to noise in the EEG. \n",
    "\n",
    "I collected my own EEG signals using the MW75 Neuro and its  Research Kit. "
   ]
  },
  {
   "cell_type": "code",
   "execution_count": 1,
   "id": "275318cd",
   "metadata": {},
   "outputs": [],
   "source": [
    "import os"
   ]
  },
  {
   "cell_type": "code",
   "execution_count": null,
   "id": "21e46f52",
   "metadata": {},
   "outputs": [],
   "source": []
  }
 ],
 "metadata": {
  "kernelspec": {
   "display_name": "focus-protocol-eeg-dl",
   "language": "python",
   "name": "python3"
  },
  "language_info": {
   "codemirror_mode": {
    "name": "ipython",
    "version": 3
   },
   "file_extension": ".py",
   "mimetype": "text/x-python",
   "name": "python",
   "nbconvert_exporter": "python",
   "pygments_lexer": "ipython3",
   "version": "3.12.11"
  }
 },
 "nbformat": 4,
 "nbformat_minor": 5
}
