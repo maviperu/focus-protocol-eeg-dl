{
 "cells": [
  {
   "cell_type": "markdown",
   "id": "df3e11ad",
   "metadata": {},
   "source": [
    "# EEG analysis of the Focus Protocol with Deep Learning\n",
    "In this notebook, I am going to analyze EEG signals collected during afternoon work sessions for days where I perfomed the Focus Protocol right before the session (eeg_focus_protocol_cleaned.csv) and on days where no protocol was performed (eeg_no_protocol_cleaned.csv)\n",
    "\n",
    "My hypothesis is that we will see differences between these two types of sessions, specifically on the alpha band, since this is the frequency band most robust to noise in the EEG. \n",
    "\n",
    "I collected my own EEG signals using the MW75 Neuro and its  Research Kit.\n",
    "\n",
    "In this notebook I will cover:\n",
    "- Use a convolutional neural network to identify if there are differences between the EEG datasets\n",
    "\n",
    "In 2 separate notebooks I will cover:\n",
    "\n",
    "- Signal processing and artifact rejection\n",
    "- Extracting power in the alpha band (the feature of choice)\n",
    "\n"
   ]
  },
  {
   "cell_type": "code",
   "execution_count": 23,
   "id": "468f7708",
   "metadata": {},
   "outputs": [],
   "source": [
    "import pandas as pd\n",
    "import numpy as np\n",
    "from sklearn.model_selection import train_test_split\n",
    "from sklearn.preprocessing import StandardScaler\n",
    "from sklearn.metrics import accuracy_score, classification_report, mean_squared_error, mean_absolute_error\n",
    "from tensorflow import keras\n",
    "from keras.models import Sequential\n",
    "from keras.layers import Conv1D, MaxPooling1D, Flatten, Dense, Dropout\n",
    "from keras.utils import to_categorical\n",
    "import matplotlib.pyplot as plt\n",
    "import os"
   ]
  },
  {
   "cell_type": "code",
   "execution_count": 16,
   "id": "c0831b83",
   "metadata": {},
   "outputs": [],
   "source": [
    "focus_protocol_alpha = pd.read_csv('../data/features/focus_protcol_alpha_cleaned.csv')\n",
    "no_protocol_alpha = pd.read_csv('../data/features/no_protcol_alpha_cleaned.csv')"
   ]
  },
  {
   "cell_type": "code",
   "execution_count": 17,
   "id": "297aec20",
   "metadata": {},
   "outputs": [
    {
     "data": {
      "text/plain": [
       "Index(['Ch1RawEEG', 'Ch2RawEEG', 'Ch4RawEEG', 'Ch5RawEEG', 'Ch6RawEEG',\n",
       "       'Ch8RawEEG', 'Ch10RawEEG', 'Ch11RawEEG', 'Ch12RawEEG'],\n",
       "      dtype='object')"
      ]
     },
     "execution_count": 17,
     "metadata": {},
     "output_type": "execute_result"
    }
   ],
   "source": [
    "eeg_columns = focus_protocol_alpha.columns\n",
    "eeg_columns"
   ]
  },
  {
   "cell_type": "code",
   "execution_count": 18,
   "id": "cdf22735",
   "metadata": {},
   "outputs": [],
   "source": [
    "focus_protocol_alpha[\"has_focus_protocol\"] = 1\n",
    "no_protocol_alpha[\"has_focus_protocol\"] = 0\n",
    "data = pd.concat([focus_protocol_alpha, no_protocol_alpha], ignore_index=True)\n"
   ]
  },
  {
   "cell_type": "code",
   "execution_count": 19,
   "id": "d50b2d17",
   "metadata": {},
   "outputs": [
    {
     "data": {
      "text/html": [
       "<div>\n",
       "<style scoped>\n",
       "    .dataframe tbody tr th:only-of-type {\n",
       "        vertical-align: middle;\n",
       "    }\n",
       "\n",
       "    .dataframe tbody tr th {\n",
       "        vertical-align: top;\n",
       "    }\n",
       "\n",
       "    .dataframe thead th {\n",
       "        text-align: right;\n",
       "    }\n",
       "</style>\n",
       "<table border=\"1\" class=\"dataframe\">\n",
       "  <thead>\n",
       "    <tr style=\"text-align: right;\">\n",
       "      <th></th>\n",
       "      <th>Ch1RawEEG</th>\n",
       "      <th>Ch2RawEEG</th>\n",
       "      <th>Ch4RawEEG</th>\n",
       "      <th>Ch5RawEEG</th>\n",
       "      <th>Ch6RawEEG</th>\n",
       "      <th>Ch8RawEEG</th>\n",
       "      <th>Ch10RawEEG</th>\n",
       "      <th>Ch11RawEEG</th>\n",
       "      <th>Ch12RawEEG</th>\n",
       "      <th>has_focus_protocol</th>\n",
       "    </tr>\n",
       "  </thead>\n",
       "  <tbody>\n",
       "    <tr>\n",
       "      <th>0</th>\n",
       "      <td>41.023960</td>\n",
       "      <td>68.431303</td>\n",
       "      <td>56.693568</td>\n",
       "      <td>15.275228</td>\n",
       "      <td>16.575960</td>\n",
       "      <td>94.329769</td>\n",
       "      <td>63.798097</td>\n",
       "      <td>40.511743</td>\n",
       "      <td>61.828850</td>\n",
       "      <td>1</td>\n",
       "    </tr>\n",
       "    <tr>\n",
       "      <th>1</th>\n",
       "      <td>1.250639</td>\n",
       "      <td>4.303077</td>\n",
       "      <td>2.115545</td>\n",
       "      <td>0.647589</td>\n",
       "      <td>0.323929</td>\n",
       "      <td>12.576345</td>\n",
       "      <td>6.321870</td>\n",
       "      <td>9.902272</td>\n",
       "      <td>16.290599</td>\n",
       "      <td>1</td>\n",
       "    </tr>\n",
       "    <tr>\n",
       "      <th>2</th>\n",
       "      <td>1.263156</td>\n",
       "      <td>7.480282</td>\n",
       "      <td>1.517097</td>\n",
       "      <td>0.855395</td>\n",
       "      <td>0.499635</td>\n",
       "      <td>22.192017</td>\n",
       "      <td>4.078655</td>\n",
       "      <td>8.098361</td>\n",
       "      <td>76.880427</td>\n",
       "      <td>1</td>\n",
       "    </tr>\n",
       "    <tr>\n",
       "      <th>3</th>\n",
       "      <td>0.835683</td>\n",
       "      <td>6.339105</td>\n",
       "      <td>4.690325</td>\n",
       "      <td>2.089450</td>\n",
       "      <td>1.885279</td>\n",
       "      <td>18.631313</td>\n",
       "      <td>6.577065</td>\n",
       "      <td>11.017780</td>\n",
       "      <td>45.673350</td>\n",
       "      <td>1</td>\n",
       "    </tr>\n",
       "    <tr>\n",
       "      <th>4</th>\n",
       "      <td>1.378921</td>\n",
       "      <td>7.629675</td>\n",
       "      <td>7.040811</td>\n",
       "      <td>0.820716</td>\n",
       "      <td>0.672070</td>\n",
       "      <td>8.510846</td>\n",
       "      <td>6.526257</td>\n",
       "      <td>11.077151</td>\n",
       "      <td>31.843242</td>\n",
       "      <td>1</td>\n",
       "    </tr>\n",
       "    <tr>\n",
       "      <th>...</th>\n",
       "      <td>...</td>\n",
       "      <td>...</td>\n",
       "      <td>...</td>\n",
       "      <td>...</td>\n",
       "      <td>...</td>\n",
       "      <td>...</td>\n",
       "      <td>...</td>\n",
       "      <td>...</td>\n",
       "      <td>...</td>\n",
       "      <td>...</td>\n",
       "    </tr>\n",
       "    <tr>\n",
       "      <th>6481</th>\n",
       "      <td>13.582223</td>\n",
       "      <td>8.900001</td>\n",
       "      <td>1.535576</td>\n",
       "      <td>0.667656</td>\n",
       "      <td>3.980121</td>\n",
       "      <td>9.354738</td>\n",
       "      <td>4.320631</td>\n",
       "      <td>6.810724</td>\n",
       "      <td>14.520165</td>\n",
       "      <td>0</td>\n",
       "    </tr>\n",
       "    <tr>\n",
       "      <th>6482</th>\n",
       "      <td>9.143718</td>\n",
       "      <td>5.151098</td>\n",
       "      <td>0.533139</td>\n",
       "      <td>1.768388</td>\n",
       "      <td>2.195504</td>\n",
       "      <td>4.107795</td>\n",
       "      <td>4.519736</td>\n",
       "      <td>6.510061</td>\n",
       "      <td>10.512129</td>\n",
       "      <td>0</td>\n",
       "    </tr>\n",
       "    <tr>\n",
       "      <th>6483</th>\n",
       "      <td>4.559787</td>\n",
       "      <td>2.443624</td>\n",
       "      <td>0.462396</td>\n",
       "      <td>1.265973</td>\n",
       "      <td>1.589941</td>\n",
       "      <td>14.773426</td>\n",
       "      <td>12.532599</td>\n",
       "      <td>16.299079</td>\n",
       "      <td>22.368490</td>\n",
       "      <td>0</td>\n",
       "    </tr>\n",
       "    <tr>\n",
       "      <th>6484</th>\n",
       "      <td>7.694221</td>\n",
       "      <td>2.528927</td>\n",
       "      <td>0.229326</td>\n",
       "      <td>0.919220</td>\n",
       "      <td>1.944135</td>\n",
       "      <td>3.733549</td>\n",
       "      <td>4.373421</td>\n",
       "      <td>5.308050</td>\n",
       "      <td>9.312889</td>\n",
       "      <td>0</td>\n",
       "    </tr>\n",
       "    <tr>\n",
       "      <th>6485</th>\n",
       "      <td>7.355560</td>\n",
       "      <td>4.392454</td>\n",
       "      <td>1.548053</td>\n",
       "      <td>2.459060</td>\n",
       "      <td>3.018851</td>\n",
       "      <td>10.914740</td>\n",
       "      <td>9.608969</td>\n",
       "      <td>17.380055</td>\n",
       "      <td>14.286812</td>\n",
       "      <td>0</td>\n",
       "    </tr>\n",
       "  </tbody>\n",
       "</table>\n",
       "<p>6486 rows × 10 columns</p>\n",
       "</div>"
      ],
      "text/plain": [
       "      Ch1RawEEG  Ch2RawEEG  Ch4RawEEG  Ch5RawEEG  Ch6RawEEG  Ch8RawEEG  \\\n",
       "0     41.023960  68.431303  56.693568  15.275228  16.575960  94.329769   \n",
       "1      1.250639   4.303077   2.115545   0.647589   0.323929  12.576345   \n",
       "2      1.263156   7.480282   1.517097   0.855395   0.499635  22.192017   \n",
       "3      0.835683   6.339105   4.690325   2.089450   1.885279  18.631313   \n",
       "4      1.378921   7.629675   7.040811   0.820716   0.672070   8.510846   \n",
       "...         ...        ...        ...        ...        ...        ...   \n",
       "6481  13.582223   8.900001   1.535576   0.667656   3.980121   9.354738   \n",
       "6482   9.143718   5.151098   0.533139   1.768388   2.195504   4.107795   \n",
       "6483   4.559787   2.443624   0.462396   1.265973   1.589941  14.773426   \n",
       "6484   7.694221   2.528927   0.229326   0.919220   1.944135   3.733549   \n",
       "6485   7.355560   4.392454   1.548053   2.459060   3.018851  10.914740   \n",
       "\n",
       "      Ch10RawEEG  Ch11RawEEG  Ch12RawEEG  has_focus_protocol  \n",
       "0      63.798097   40.511743   61.828850                   1  \n",
       "1       6.321870    9.902272   16.290599                   1  \n",
       "2       4.078655    8.098361   76.880427                   1  \n",
       "3       6.577065   11.017780   45.673350                   1  \n",
       "4       6.526257   11.077151   31.843242                   1  \n",
       "...          ...         ...         ...                 ...  \n",
       "6481    4.320631    6.810724   14.520165                   0  \n",
       "6482    4.519736    6.510061   10.512129                   0  \n",
       "6483   12.532599   16.299079   22.368490                   0  \n",
       "6484    4.373421    5.308050    9.312889                   0  \n",
       "6485    9.608969   17.380055   14.286812                   0  \n",
       "\n",
       "[6486 rows x 10 columns]"
      ]
     },
     "execution_count": 19,
     "metadata": {},
     "output_type": "execute_result"
    }
   ],
   "source": [
    "data"
   ]
  },
  {
   "cell_type": "code",
   "execution_count": 20,
   "id": "c99ecec1",
   "metadata": {},
   "outputs": [],
   "source": [
    "X = data[eeg_columns].values\n",
    "y = data['has_focus_protocol'].values"
   ]
  },
  {
   "cell_type": "code",
   "execution_count": 21,
   "id": "77c25493",
   "metadata": {},
   "outputs": [],
   "source": [
    "scaler = StandardScaler()\n",
    "X_scaled = scaler.fit_transform(X)"
   ]
  },
  {
   "cell_type": "code",
   "execution_count": 26,
   "id": "cbb4b4d4",
   "metadata": {},
   "outputs": [
    {
     "data": {
      "text/plain": [
       "Text(0.5, 1.0, 'Scaled alpha for EEG after protocol (first half) and without protocol (second half)')"
      ]
     },
     "execution_count": 26,
     "metadata": {},
     "output_type": "execute_result"
    },
    {
     "data": {
      "image/png": "[encoded data removed]",
      "text/plain": [
       "<Figure size 640x480 with 1 Axes>"
      ]
     },
     "metadata": {},
     "output_type": "display_data"
    }
   ],
   "source": [
    "plt.plot(X_scaled)\n",
    "plt.ylabel(\"Scaled alpha power\")\n",
    "plt.xlabel(\"Window index\")\n",
    "plt.title(\"Scaled alpha for EEG after protocol (first half) and without protocol (second half)\")"
   ]
  },
  {
   "cell_type": "code",
   "execution_count": 27,
   "id": "3b3009ac",
   "metadata": {},
   "outputs": [
    {
     "data": {
      "text/plain": [
       "array([[ 2.01011438,  6.05659182,  6.31342416, ...,  6.06735026,\n",
       "         2.63001034,  3.45850535],\n",
       "       [-0.55587808, -0.10281942, -0.23893076, ..., -0.42217512,\n",
       "        -0.32734147,  0.19395058],\n",
       "       [-0.55507053,  0.20234591, -0.31077723, ..., -0.67545205,\n",
       "        -0.50162741,  4.53752566],\n",
       "       ...,\n",
       "       [-0.34238698, -0.28141686, -0.43739927, ...,  0.27906581,\n",
       "         0.2906897 ,  0.62966358],\n",
       "       [-0.14016769, -0.27322367, -0.46538045, ..., -0.64217064,\n",
       "        -0.77121491, -0.30626878],\n",
       "       [-0.16201652, -0.09423496, -0.30706081, ..., -0.05103534,\n",
       "         0.39512888,  0.05030273]])"
      ]
     },
     "execution_count": 27,
     "metadata": {},
     "output_type": "execute_result"
    }
   ],
   "source": [
    "X_scaled"
   ]
  },
  {
   "cell_type": "code",
   "execution_count": 28,
   "id": "2ccdb393",
   "metadata": {},
   "outputs": [],
   "source": [
    "X_cnn = X_scaled.reshape(X_scaled.shape[0], len(eeg_columns), 1)\n"
   ]
  },
  {
   "cell_type": "code",
   "execution_count": 30,
   "id": "2d16ad20",
   "metadata": {},
   "outputs": [
    {
     "data": {
      "text/plain": [
       "(6486, 9, 1)"
      ]
     },
     "execution_count": 30,
     "metadata": {},
     "output_type": "execute_result"
    }
   ],
   "source": [
    "X_cnn.shape"
   ]
  },
  {
   "cell_type": "code",
   "execution_count": 31,
   "id": "2a52a68e",
   "metadata": {},
   "outputs": [],
   "source": [
    "X_train, X_test, y_train, y_test = train_test_split(X_cnn, y, test_size=0.2, stratify=y, random_state=42)\n"
   ]
  },
  {
   "cell_type": "code",
   "execution_count": 32,
   "id": "78636902",
   "metadata": {},
   "outputs": [
    {
     "name": "stderr",
     "output_type": "stream",
     "text": [
      "c:\\Users\\mavip\\miniconda3\\envs\\focus-protocol-eeg-dl\\Lib\\site-packages\\keras\\src\\layers\\convolutional\\base_conv.py:107: UserWarning: Do not pass an `input_shape`/`input_dim` argument to a layer. When using Sequential models, prefer using an `Input(shape)` object as the first layer in the model instead.\n",
      "  super().__init__(activity_regularizer=activity_regularizer, **kwargs)\n"
     ]
    }
   ],
   "source": [
    "# 7. Build CNN model\n",
    "model = Sequential([\n",
    "    Conv1D(filters=32, kernel_size=2, activation='relu', input_shape=(len(eeg_columns), 1)),    # Input_shape=(channels, 1): num_channels time steps with 1 feature per step\n",
    "    MaxPooling1D(pool_size=1),                                                   # MaxPooling layer: downsamples the output using a pool size of 1 (no real effect in this case)\n",
    "    Flatten(),                                                                   # Flattens the output of the previous layer into a 1D vector for the dense layer\n",
    "    Dense(16, activation='relu'),                                                # Fully connected (Dense) layer with 16 neurons and ReLU activation\n",
    "    Dropout(0.3),                                                                # Dropout layer: randomly drops 30% of neurons during training to reduce overfitting\n",
    "    Dense(1, activation='sigmoid')  # binary classification                      # Output layer: single neuron with sigmoid activation for binary classification (stress vs no stress)\n",
    "])\n"
   ]
  },
  {
   "cell_type": "code",
   "execution_count": 33,
   "id": "e1ccebde",
   "metadata": {},
   "outputs": [],
   "source": [
    "model.compile(optimizer='adam', loss='binary_crossentropy', metrics=['accuracy'])\n"
   ]
  },
  {
   "cell_type": "code",
   "execution_count": 34,
   "id": "8e44a155",
   "metadata": {},
   "outputs": [
    {
     "name": "stdout",
     "output_type": "stream",
     "text": [
      "Epoch 1/20\n",
      "\u001b[1m260/260\u001b[0m \u001b[32m━━━━━━━━━━━━━━━━━━━━\u001b[0m\u001b[37m\u001b[0m \u001b[1m9s\u001b[0m 13ms/step - accuracy: 0.7767 - loss: 0.5145 - val_accuracy: 0.8401 - val_loss: 0.3604\n",
      "Epoch 2/20\n",
      "\u001b[1m260/260\u001b[0m \u001b[32m━━━━━━━━━━━━━━━━━━━━\u001b[0m\u001b[37m\u001b[0m \u001b[1m2s\u001b[0m 7ms/step - accuracy: 0.8650 - loss: 0.3342 - val_accuracy: 0.8565 - val_loss: 0.3202\n",
      "Epoch 3/20\n",
      "\u001b[1m260/260\u001b[0m \u001b[32m━━━━━━━━━━━━━━━━━━━━\u001b[0m\u001b[37m\u001b[0m \u001b[1m2s\u001b[0m 6ms/step - accuracy: 0.8705 - loss: 0.3140 - val_accuracy: 0.8728 - val_loss: 0.3055\n",
      "Epoch 4/20\n",
      "\u001b[1m260/260\u001b[0m \u001b[32m━━━━━━━━━━━━━━━━━━━━\u001b[0m\u001b[37m\u001b[0m \u001b[1m2s\u001b[0m 7ms/step - accuracy: 0.8873 - loss: 0.2861 - val_accuracy: 0.8892 - val_loss: 0.2741\n",
      "Epoch 5/20\n",
      "\u001b[1m260/260\u001b[0m \u001b[32m━━━━━━━━━━━━━━━━━━━━\u001b[0m\u001b[37m\u001b[0m \u001b[1m3s\u001b[0m 9ms/step - accuracy: 0.8936 - loss: 0.2720 - val_accuracy: 0.8911 - val_loss: 0.2606\n",
      "Epoch 6/20\n",
      "\u001b[1m260/260\u001b[0m \u001b[32m━━━━━━━━━━━━━━━━━━━━\u001b[0m\u001b[37m\u001b[0m \u001b[1m2s\u001b[0m 9ms/step - accuracy: 0.8923 - loss: 0.2654 - val_accuracy: 0.8960 - val_loss: 0.2529\n",
      "Epoch 7/20\n",
      "\u001b[1m260/260\u001b[0m \u001b[32m━━━━━━━━━━━━━━━━━━━━\u001b[0m\u001b[37m\u001b[0m \u001b[1m3s\u001b[0m 9ms/step - accuracy: 0.9019 - loss: 0.2483 - val_accuracy: 0.8940 - val_loss: 0.2523\n",
      "Epoch 8/20\n",
      "\u001b[1m260/260\u001b[0m \u001b[32m━━━━━━━━━━━━━━━━━━━━\u001b[0m\u001b[37m\u001b[0m \u001b[1m2s\u001b[0m 7ms/step - accuracy: 0.8976 - loss: 0.2624 - val_accuracy: 0.9037 - val_loss: 0.2379\n",
      "Epoch 9/20\n",
      "\u001b[1m260/260\u001b[0m \u001b[32m━━━━━━━━━━━━━━━━━━━━\u001b[0m\u001b[37m\u001b[0m \u001b[1m2s\u001b[0m 8ms/step - accuracy: 0.9048 - loss: 0.2366 - val_accuracy: 0.9027 - val_loss: 0.2391\n",
      "Epoch 10/20\n",
      "\u001b[1m260/260\u001b[0m \u001b[32m━━━━━━━━━━━━━━━━━━━━\u001b[0m\u001b[37m\u001b[0m \u001b[1m2s\u001b[0m 7ms/step - accuracy: 0.8976 - loss: 0.2489 - val_accuracy: 0.9075 - val_loss: 0.2296\n",
      "Epoch 11/20\n",
      "\u001b[1m260/260\u001b[0m \u001b[32m━━━━━━━━━━━━━━━━━━━━\u001b[0m\u001b[37m\u001b[0m \u001b[1m1s\u001b[0m 5ms/step - accuracy: 0.9054 - loss: 0.2372 - val_accuracy: 0.9008 - val_loss: 0.2327\n",
      "Epoch 12/20\n",
      "\u001b[1m260/260\u001b[0m \u001b[32m━━━━━━━━━━━━━━━━━━━━\u001b[0m\u001b[37m\u001b[0m \u001b[1m2s\u001b[0m 6ms/step - accuracy: 0.9132 - loss: 0.2188 - val_accuracy: 0.9066 - val_loss: 0.2255\n",
      "Epoch 13/20\n",
      "\u001b[1m260/260\u001b[0m \u001b[32m━━━━━━━━━━━━━━━━━━━━\u001b[0m\u001b[37m\u001b[0m \u001b[1m2s\u001b[0m 7ms/step - accuracy: 0.9090 - loss: 0.2207 - val_accuracy: 0.9037 - val_loss: 0.2267\n",
      "Epoch 14/20\n",
      "\u001b[1m260/260\u001b[0m \u001b[32m━━━━━━━━━━━━━━━━━━━━\u001b[0m\u001b[37m\u001b[0m \u001b[1m2s\u001b[0m 7ms/step - accuracy: 0.9073 - loss: 0.2267 - val_accuracy: 0.9037 - val_loss: 0.2315\n",
      "Epoch 15/20\n",
      "\u001b[1m260/260\u001b[0m \u001b[32m━━━━━━━━━━━━━━━━━━━━\u001b[0m\u001b[37m\u001b[0m \u001b[1m2s\u001b[0m 6ms/step - accuracy: 0.9092 - loss: 0.2280 - val_accuracy: 0.9066 - val_loss: 0.2207\n",
      "Epoch 16/20\n",
      "\u001b[1m260/260\u001b[0m \u001b[32m━━━━━━━━━━━━━━━━━━━━\u001b[0m\u001b[37m\u001b[0m \u001b[1m2s\u001b[0m 7ms/step - accuracy: 0.9051 - loss: 0.2326 - val_accuracy: 0.9152 - val_loss: 0.2158\n",
      "Epoch 17/20\n",
      "\u001b[1m260/260\u001b[0m \u001b[32m━━━━━━━━━━━━━━━━━━━━\u001b[0m\u001b[37m\u001b[0m \u001b[1m2s\u001b[0m 8ms/step - accuracy: 0.9096 - loss: 0.2100 - val_accuracy: 0.9114 - val_loss: 0.2159\n",
      "Epoch 18/20\n",
      "\u001b[1m260/260\u001b[0m \u001b[32m━━━━━━━━━━━━━━━━━━━━\u001b[0m\u001b[37m\u001b[0m \u001b[1m2s\u001b[0m 7ms/step - accuracy: 0.9107 - loss: 0.2068 - val_accuracy: 0.9017 - val_loss: 0.2255\n",
      "Epoch 19/20\n",
      "\u001b[1m260/260\u001b[0m \u001b[32m━━━━━━━━━━━━━━━━━━━━\u001b[0m\u001b[37m\u001b[0m \u001b[1m2s\u001b[0m 7ms/step - accuracy: 0.9167 - loss: 0.2072 - val_accuracy: 0.9114 - val_loss: 0.2097\n",
      "Epoch 20/20\n",
      "\u001b[1m260/260\u001b[0m \u001b[32m━━━━━━━━━━━━━━━━━━━━\u001b[0m\u001b[37m\u001b[0m \u001b[1m2s\u001b[0m 7ms/step - accuracy: 0.9047 - loss: 0.2233 - val_accuracy: 0.9104 - val_loss: 0.2170\n"
     ]
    },
    {
     "data": {
      "text/plain": [
       "<keras.src.callbacks.history.History at 0x1d18b150290>"
      ]
     },
     "execution_count": 34,
     "metadata": {},
     "output_type": "execute_result"
    }
   ],
   "source": [
    "model.fit(X_train, y_train, epochs=20, batch_size=16, validation_split=0.2, verbose=1)\n"
   ]
  },
  {
   "cell_type": "code",
   "execution_count": 36,
   "id": "960e90f1",
   "metadata": {},
   "outputs": [
    {
     "name": "stdout",
     "output_type": "stream",
     "text": [
      "\u001b[1m41/41\u001b[0m \u001b[32m━━━━━━━━━━━━━━━━━━━━\u001b[0m\u001b[37m\u001b[0m \u001b[1m0s\u001b[0m 3ms/step - accuracy: 0.9145 - loss: 0.2002\n",
      "Test Accuracy: 91%\n"
     ]
    }
   ],
   "source": [
    "loss, accuracy = model.evaluate(X_test, y_test)\n",
    "print(f\"Test Accuracy: {int(accuracy*100)}%\")"
   ]
  },
  {
   "cell_type": "markdown",
   "id": "54911d35",
   "metadata": {},
   "source": [
    "This is looking pretty good! I wonder:\n",
    "- What are the channels that influence the prediction the most. \n",
    "- How will it perform with a couple of fresh datasets that I collect this week?"
   ]
  },
  {
   "cell_type": "code",
   "execution_count": null,
   "id": "0ba7fa3f",
   "metadata": {},
   "outputs": [],
   "source": []
  }
 ],
 "metadata": {
  "kernelspec": {
   "display_name": "focus-protocol-eeg-dl",
   "language": "python",
   "name": "python3"
  },
  "language_info": {
   "codemirror_mode": {
    "name": "ipython",
    "version": 3
   },
   "file_extension": ".py",
   "mimetype": "text/x-python",
   "name": "python",
   "nbconvert_exporter": "python",
   "pygments_lexer": "ipython3",
   "version": "3.12.11"
  }
 },
 "nbformat": 4,
 "nbformat_minor": 5
}
